{
 "cells": [
  {
   "cell_type": "markdown",
   "metadata": {},
   "source": [
    "> Simulations proceed as follows. At each round, a random subset of users (20 000, in the following) is presented to\n",
    "several sequential algorithms a.k.a. policies to be evaluated. These policies must then recommend an ordered set of\n",
    "L = 12 playlists to each user. Streams, i.e. positive binary rewards, are generated according to the aforementioned\n",
    "display-to-stream probabilities and to a configurable cascading browsing model capturing that users explore the carousel\n",
    "from left to right and might not see all recommended playlists. At the end of each round, all policies update their model\n",
    "based on the set of users and on binary rewards received from displayed playlists. Expected cumulative regrets of\n",
    "policies [2, 22, 39] w.r.t. the optimal top-L playlists sets according to pui probabilities are computed.\n",
    "\n",
    "> An active user who did not stream any card during the round only saw the Linit first ones.\n",
    "• An active user who streamed the ith card, with i ∈ {1, ..., L}, saw all cards from ranks 1 to max(Linit,i).\n",
    "\n",
    "[[Source]](https://arxiv.org/pdf/2009.06546.pdf)"
   ]
  },
  {
   "cell_type": "code",
   "execution_count": 1,
   "metadata": {},
   "outputs": [],
   "source": [
    "from sd_bandits.deezer.dataset import DeezerDataset\n",
    "import numpy as np"
   ]
  },
  {
   "cell_type": "code",
   "execution_count": 2,
   "metadata": {},
   "outputs": [],
   "source": [
    "deezer_data = DeezerDataset(\n",
    "    user_features=\"../data/deezer_toy/user_features_small.csv\",\n",
    "    playlist_features= \"../data/deezer_toy/playlist_features.csv\"\n",
    ")"
   ]
  },
  {
   "cell_type": "code",
   "execution_count": 3,
   "metadata": {},
   "outputs": [
    {
     "name": "stderr",
     "output_type": "stream",
     "text": [
      "100%|██████████| 20000/20000 [00:03<00:00, 6514.55it/s]\n",
      "100%|██████████| 20000/20000 [00:00<00:00, 63017.70it/s]\n"
     ]
    }
   ],
   "source": [
    "feedback = deezer_data.obtain_batch_bandit_feedback()"
   ]
  },
  {
   "cell_type": "code",
   "execution_count": 4,
   "metadata": {},
   "outputs": [
    {
     "name": "stdout",
     "output_type": "stream",
     "text": [
      "feedback dict:\n",
      "  action: <class 'numpy.ndarray'>\n",
      "  reward: <class 'numpy.ndarray'>\n",
      "  position: <class 'numpy.ndarray'>\n",
      "  context: <class 'numpy.ndarray'>\n",
      "  action_context: <class 'numpy.ndarray'>\n",
      "  pscore: <class 'numpy.ndarray'>\n"
     ]
    }
   ],
   "source": [
    "print(\"feedback dict:\")\n",
    "for key, value in feedback.items():\n",
    "    print(f\"  {key}: {type(value)}\")"
   ]
  },
  {
   "cell_type": "code",
   "execution_count": null,
   "metadata": {},
   "outputs": [],
   "source": []
  }
 ],
 "metadata": {
  "kernelspec": {
   "display_name": "Python 3",
   "language": "python",
   "name": "python3"
  },
  "language_info": {
   "codemirror_mode": {
    "name": "ipython",
    "version": 3
   },
   "file_extension": ".py",
   "mimetype": "text/x-python",
   "name": "python",
   "nbconvert_exporter": "python",
   "pygments_lexer": "ipython3",
   "version": "3.7.9"
  }
 },
 "nbformat": 4,
 "nbformat_minor": 4
}
