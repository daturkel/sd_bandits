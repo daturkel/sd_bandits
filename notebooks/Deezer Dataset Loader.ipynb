{
 "cells": [
  {
   "cell_type": "markdown",
   "metadata": {},
   "source": [
    "# Deezer Dataset Loader\n",
    "\n",
    "This notebook demonstrates the Deezer Dataset Loader (`sd_bandits.obp_extensions.dataset.DeezerDataset`).\n",
    "\n",
    "The Deezer data comes with 974,960 users and 862 playlists. Both users and playlists have a 97-dimensional vector of features such that:\n",
    "\n",
    "$$p(u,i) = \\frac{1}{1+\\exp(- \\langle x_u,\\theta_i\\rangle)}$$\n",
    "\n",
    "where $x_u$ is the user vector, $\\theta_i$ is the item vector, and $p(u,i)$ is the \"ground-truth\" probability of the user clicking the item (irrespective of its position).\n",
    "\n",
    "We want log data that could reasonably be the output of a random experiment with the Deezer data. In other words, if we show each user a completely random set of items, what will they click?\n",
    "\n",
    "Following the implementation from Deezer's own simulation code ([see here](https://github.com/deezer/carousel_bandits/blob/master/environment.py#L77)), we simulate 100 batches where 20,000 users are selected with replacement. \n",
    "\n",
    "Each user is presented with `len_list=12` randomly selected items, and the $p(u,i)$ is calculated for each item. Then each probability is turned into a 0/1 reward outcome by simulating a Bernoulli random variable with $p=p(u,i)$. The rewards are tabulated using Deezer's cascading reward system:\n",
    "- If the user clicks none of the 12 items, we record the system as receiving 0 reward for each of the `len_init=3` items in the list, because we assume they only saw the first 3 items.\n",
    "- If the user clicks items $i_1,\\dots,i_j$, where $i_1$ is earliest and $i_j$ is latest the list, we record the 0/1 rewards for the first $\\max(l_{\\textrm{init}},i_j)$ items. **NOTE**: Deezer's code actually records the first $i_j$ rewards even if $i_j<l_{\\textrm{init}}$. We checked with Deezer and they acknowledged the simplification, noting it doesn't affect the results appreciably. We chose to follow the description in the paper.\n",
    "- (Optionally, we can choose to ignore the cascade rule and always record all `len_list` 0/1 rewards.)\n",
    "\n",
    "The relevant section from the paper is excerpted below:\n",
    "\n",
    "\n",
    "> Simulations proceed as follows. At each [batch], a random subset of users (20 000, in the following) is presented to\n",
    "several sequential algorithms a.k.a. policies to be evaluated. These policies must then recommend an ordered set of\n",
    "L = 12 playlists to each user. Streams, i.e. positive binary rewards, are generated according to the aforementioned\n",
    "display-to-stream probabilities and to a configurable cascading browsing model capturing that users explore the carousel\n",
    "from left to right and might not see all recommended playlists. At the end of each [batch], all policies update their model\n",
    "based on the set of users and on binary rewards received from displayed playlists. Expected cumulative regrets of\n",
    "policies [2, 22, 39] w.r.t. the optimal top-L playlists sets according to pui probabilities are computed.\n",
    "\n",
    "> An active user who did not stream any card during the [batch] only saw the Linit first ones.\n",
    "• An active user who streamed the ith card, with i ∈ {1, ..., L}, saw all cards from ranks 1 to max(Linit,i).\n",
    "\n",
    "[[Source]](https://arxiv.org/pdf/2009.06546.pdf)"
   ]
  },
  {
   "cell_type": "code",
   "execution_count": 1,
   "metadata": {},
   "outputs": [],
   "source": [
    "from sd_bandits.obp_extensions.dataset import DeezerDataset\n",
    "import numpy as np"
   ]
  },
  {
   "cell_type": "markdown",
   "metadata": {},
   "source": [
    "The `DeezerDataset` class lets you override `len_list` (default 12) and `len_init` (default 3) if desired."
   ]
  },
  {
   "cell_type": "code",
   "execution_count": 2,
   "metadata": {},
   "outputs": [],
   "source": [
    "deezer_data = DeezerDataset(\n",
    "    user_features=\"../data/deezer_carousel_bandits/user_features.csv\",\n",
    "    playlist_features= \"../data/deezer_carousel_bandits/playlist_features.csv\"\n",
    ")"
   ]
  },
  {
   "cell_type": "markdown",
   "metadata": {},
   "source": [
    "The `obtain_batch_bandit_feedback` method lets you override Deezer's simulation defaults of `n_batches` (100), `users_per_batch` (20,000), `cascade` (True), `replace_within_batch` (True), as well as random `seed`."
   ]
  },
  {
   "cell_type": "code",
   "execution_count": 3,
   "metadata": {},
   "outputs": [
    {
     "name": "stderr",
     "output_type": "stream",
     "text": [
      "Calculating user scores:: 100%|██████████| 1000/1000 [00:00<00:00, 4673.18it/s]\n",
      "Generating feedback:: 100%|██████████| 1000/1000 [00:00<00:00, 161549.28it/s]\n"
     ]
    }
   ],
   "source": [
    "feedback_deezer_cascade = deezer_data.obtain_batch_bandit_feedback(\n",
    "    n_batches=2,\n",
    "    users_per_batch=500,\n",
    "    cascade=True, seed=1\n",
    ")"
   ]
  },
  {
   "cell_type": "code",
   "execution_count": 4,
   "metadata": {},
   "outputs": [
    {
     "name": "stdout",
     "output_type": "stream",
     "text": [
      "Cascade is enabled, so we see between 3 and 12 items per user per turn\n",
      "minimum number of actions is thus 2 batches * 500 users * 3 items = 3000\n",
      "feedback dict:\n",
      "  action: <class 'numpy.ndarray'>, (3354,)\n",
      "  reward: <class 'numpy.ndarray'>, (3354,)\n",
      "  position: <class 'numpy.ndarray'>, (3354,)\n",
      "  context: <class 'numpy.ndarray'>, (3354, 97)\n",
      "  action_context: <class 'numpy.ndarray'>, (3354, 97)\n",
      "  pscore: <class 'numpy.ndarray'>, (3354,)\n",
      "  n_rounds: 3354\n",
      "  n_actions: 862\n"
     ]
    }
   ],
   "source": [
    "print(\"Cascade is enabled, so we see between 3 and 12 items per user per turn\")\n",
    "print(\"minimum number of actions is thus 2 batches * 500 users * 3 items = 3000\")\n",
    "print(\"feedback dict:\")\n",
    "for key, value in feedback_deezer_cascade.items():\n",
    "    if key[0:2] != \"n_\":\n",
    "        print(f\"  {key}: {type(value)}, {value.shape}\")\n",
    "    else:\n",
    "        print(f\"  {key}: {value}\")"
   ]
  },
  {
   "cell_type": "code",
   "execution_count": 5,
   "metadata": {},
   "outputs": [
    {
     "name": "stderr",
     "output_type": "stream",
     "text": [
      "Calculating user scores:: 100%|██████████| 1000/1000 [00:00<00:00, 6111.76it/s]\n",
      "Generating feedback:: 100%|██████████| 1000/1000 [00:00<00:00, 60200.71it/s]\n"
     ]
    }
   ],
   "source": [
    "feedback_deezer_no_cascade = deezer_data.obtain_batch_bandit_feedback(\n",
    "    n_batches=2,\n",
    "    users_per_batch=500,\n",
    "    cascade=False\n",
    ")"
   ]
  },
  {
   "cell_type": "code",
   "execution_count": 6,
   "metadata": {},
   "outputs": [
    {
     "name": "stdout",
     "output_type": "stream",
     "text": [
      "cascade is disabled, so we ways see 12 items per user per turn\n",
      "number of actions is thus 2 batches * 500 users * 12 items = 12,000\n",
      "feedback dict:\n",
      "  action: <class 'numpy.ndarray'>, (12000,)\n",
      "  reward: <class 'numpy.ndarray'>, (12000,)\n",
      "  position: <class 'numpy.ndarray'>, (12000,)\n",
      "  context: <class 'numpy.ndarray'>, (12000, 97)\n",
      "  action_context: <class 'numpy.ndarray'>, (12000, 97)\n",
      "  pscore: <class 'numpy.ndarray'>, (12000,)\n",
      "  n_rounds: 12000\n",
      "  n_actions: 862\n"
     ]
    }
   ],
   "source": [
    "print(\"cascade is disabled, so we ways see 12 items per user per turn\")\n",
    "print(\"number of actions is thus 2 batches * 500 users * 12 items = 12,000\")\n",
    "print(\"feedback dict:\")\n",
    "for key, value in feedback_deezer_no_cascade.items():\n",
    "    if key[0:2] != \"n_\":\n",
    "        print(f\"  {key}: {type(value)}, {value.shape}\")\n",
    "    else:\n",
    "        print(f\"  {key}: {value}\")"
   ]
  }
 ],
 "metadata": {
  "kernelspec": {
   "display_name": "Python 3",
   "language": "python",
   "name": "python3"
  },
  "language_info": {
   "codemirror_mode": {
    "name": "ipython",
    "version": 3
   },
   "file_extension": ".py",
   "mimetype": "text/x-python",
   "name": "python",
   "nbconvert_exporter": "python",
   "pygments_lexer": "ipython3",
   "version": "3.7.9"
  }
 },
 "nbformat": 4,
 "nbformat_minor": 4
}
