{
 "cells": [
  {
   "cell_type": "code",
   "execution_count": 1,
   "metadata": {},
   "outputs": [],
   "source": [
    "import pickle\n",
    "\n",
    "import matplotlib.pyplot as plt\n",
    "import pandas as pd"
   ]
  },
  {
   "cell_type": "markdown",
   "metadata": {},
   "source": [
    "# Scripting experiments\n",
    "\n",
    "With the new and improved `obd_run.py` and `Experiment` class (see Experiment Interface notebook), we can easily script end to end experiments.\n",
    "\n",
    "## An OpenBanditDataset experiment\n",
    "\n",
    "An OpenBanditDataset experiment requires a `dataset_spec.yaml`, `estimator_spec.yaml`, and `policy_spec.yaml`, where the `policy_spec.yaml` can be a _list_ of policies. "
   ]
  },
  {
   "cell_type": "code",
   "execution_count": 2,
   "metadata": {},
   "outputs": [
    {
     "name": "stdout",
     "output_type": "stream",
     "text": [
      "dataset_spec.yaml   estimator_spec.yaml policy_spec.yaml\n"
     ]
    }
   ],
   "source": [
    "!ls ../experiments/obd_demo/"
   ]
  },
  {
   "cell_type": "code",
   "execution_count": 3,
   "metadata": {},
   "outputs": [
    {
     "name": "stdout",
     "output_type": "stream",
     "text": [
      "- key: BernoulliTS\n",
      "  name: obd_demo\n",
      "  parameters:\n",
      "    batch_size: 5\n",
      "    len_list: 3\n",
      "    n_actions: 3\n",
      "- key: LinUCB\n",
      "  name: obd_demo\n",
      "  parameters:\n",
      "    dim: 27\n",
      "    batch_size: 5\n",
      "    len_list: 3\n",
      "    n_actions: 3\n"
     ]
    }
   ],
   "source": [
    "!cat ../experiments/obd_demo/policy_spec.yaml"
   ]
  },
  {
   "cell_type": "markdown",
   "metadata": {},
   "source": [
    "Then we just point `obp_run.py` at the experiment directory and let it do it's thing!"
   ]
  },
  {
   "cell_type": "code",
   "execution_count": 4,
   "metadata": {},
   "outputs": [
    {
     "name": "stdout",
     "output_type": "stream",
     "text": [
      "4:57:31 INFO: Building dataset\n",
      "4:57:34 INFO: Building policies\n",
      "4:57:34 INFO: Building estimators\n",
      "4:57:34 INFO: Running experiment\n",
      "4:57:34 INFO: Obtaining logged feedback\n",
      "4:57:34 INFO: Done in 0.0 seconds\n",
      "4:57:34 INFO: Fitting regression model\n",
      "4:57:42 INFO: Done in 7.98 seconds\n",
      "4:57:42 INFO: Running simulations\n",
      "4:57:42 INFO: [1 of 2] Running simulation for bts\n",
      "100%|████████████████████████████████| 452949/452949 [00:13<00:00, 33807.42it/s]\n",
      "4:57:56 INFO: [2 of 2] Running simulation for linear_ucb_0.0\n",
      "100%|████████████████████████████████| 452949/452949 [00:37<00:00, 12232.00it/s]\n",
      "4:58:33 INFO: Done in 51.52 seconds\n",
      "4:58:33 INFO: Estimating rewards\n",
      "4:58:33 INFO: Estimating reward confidence interval for logged feedback\n",
      "4:58:34 INFO: [1 of 3] Estimating reward confidence interval for logged\n",
      "4:58:35 INFO: [2 of 3] Estimating rewards and reward confidence interval for bts\n",
      "4:58:36 INFO: [3 of 3] Estimating rewards and reward confidence interval for linear_ucb_0.0\n",
      "4:58:36 INFO: Done in 2.93 seconds\n",
      "4:58:36 INFO: Experiment finished in 62.44 seconds\n",
      "4:58:36 INFO: Writing output to results ../experiments/obd_demo/results.pickle\n",
      "4:58:39 INFO: Bye!\n"
     ]
    }
   ],
   "source": [
    "!python ../scripting/obp_run.py --experiment-dir ../experiments/obd_demo"
   ]
  },
  {
   "cell_type": "markdown",
   "metadata": {},
   "source": [
    "It drops a `results.pickle` file in the experiments directory with the `OBDExperiment` object."
   ]
  },
  {
   "cell_type": "code",
   "execution_count": 5,
   "metadata": {},
   "outputs": [],
   "source": [
    "with open(\"../experiments/obd_demo/results.pickle\",\"rb\") as f:\n",
    "    obd_results = pickle.load(f)"
   ]
  },
  {
   "cell_type": "markdown",
   "metadata": {},
   "source": [
    "For a quick summary of the outcomes, we have `reward_summary`:"
   ]
  },
  {
   "cell_type": "code",
   "execution_count": 6,
   "metadata": {},
   "outputs": [
    {
     "data": {
      "text/plain": [
       "{'logged': {'mean': 0.005126073796387674,\n",
       "  '95.0% CI (lower)': 0.004940732841887277,\n",
       "  '95.0% CI (upper)': 0.005346462846810568},\n",
       " 'bts': {'mean': 0.0053872683460161105,\n",
       "  '95.0% CI (lower)': 0.00538260774055602,\n",
       "  '95.0% CI (upper)': 0.005392396666297001},\n",
       " 'linear_ucb_0.0': {'mean': 0.005327208589589398,\n",
       "  '95.0% CI (lower)': 0.005321954965442191,\n",
       "  '95.0% CI (upper)': 0.005331800153828309}}"
      ]
     },
     "execution_count": 6,
     "metadata": {},
     "output_type": "execute_result"
    }
   ],
   "source": [
    "obd_results.reward_summary"
   ]
  },
  {
   "cell_type": "markdown",
   "metadata": {},
   "source": [
    "If we want to dive deeper into the rewards for each policy, we can access the full feedback dictionary for the _logged_ baseline data and partial feedback dictionaries for the _estimated_ policies:"
   ]
  },
  {
   "cell_type": "code",
   "execution_count": 7,
   "metadata": {},
   "outputs": [
    {
     "name": "stdout",
     "output_type": "stream",
     "text": [
      "Feedback for logged:\n",
      "  n_rounds\n",
      "  n_actions\n",
      "  action\n",
      "  position\n",
      "  reward\n",
      "  reward_test\n",
      "  pscore\n",
      "  context\n",
      "  action_context\n",
      "Feedback for bts:\n",
      "  action\n",
      "  reward\n",
      "Feedback for linear_ucb_0.0:\n",
      "  action\n",
      "  reward\n"
     ]
    }
   ],
   "source": [
    "for policy_name, feedback in obd_results.policy_feedback.items():\n",
    "    print(f\"Feedback for {policy_name}:\")\n",
    "    print(\"\\n\".join([f\"  {key}\" for key in feedback.keys()]))"
   ]
  },
  {
   "cell_type": "markdown",
   "metadata": {},
   "source": [
    "## A Deezer experiment\n",
    "\n",
    "Deezer experiments only require a `dataset_spec.yaml` and `policy_spec.yaml`, since they don't use off-policy estimators."
   ]
  },
  {
   "cell_type": "code",
   "execution_count": 8,
   "metadata": {},
   "outputs": [
    {
     "name": "stdout",
     "output_type": "stream",
     "text": [
      "dataset_spec.yaml policy_spec.yaml\n"
     ]
    }
   ],
   "source": [
    "!ls ../experiments/deezer_demo"
   ]
  },
  {
   "cell_type": "markdown",
   "metadata": {},
   "source": [
    "Notice we include the random baseline _as a Random policy_. \n",
    "\n",
    "Also notice that extra parameters to pass to DeezerDataset's obtain_batch_bandit_feedback method (like `cascade`, `users_per_batch`, etc) can be included in `meta`."
   ]
  },
  {
   "cell_type": "code",
   "execution_count": 9,
   "metadata": {},
   "outputs": [
    {
     "name": "stdout",
     "output_type": "stream",
     "text": [
      "- key: Random\n",
      "  name: deezer_demo\n",
      "  parameters:\n",
      "    len_list: 12\n",
      "    n_actions: 862\n",
      "  meta:\n",
      "    users_per_batch: 1000\n",
      "- key: BernoulliTS\n",
      "  name: deezer_demo\n",
      "  parameters:\n",
      "    batch_size: 1\n",
      "    len_list: 12\n",
      "    n_actions: 862\n",
      "  meta:\n",
      "    users_per_batch: 1000\n",
      "- key: EpsilonGreedy\n",
      "  name: deezer_demo\n",
      "  parameters:\n",
      "    batch_size: 1\n",
      "    epsilon: 0.1\n",
      "    len_list: 12\n",
      "    n_actions: 862\n",
      "    policy_name: \"egreedy_0.1\"\n",
      "  meta:\n",
      "    users_per_batch: 1000\n"
     ]
    }
   ],
   "source": [
    "!cat ../experiments/deezer_demo/policy_spec.yaml"
   ]
  },
  {
   "cell_type": "code",
   "execution_count": 10,
   "metadata": {},
   "outputs": [
    {
     "name": "stdout",
     "output_type": "stream",
     "text": [
      "4:58:44 INFO: Building dataset\n",
      "4:59:02 INFO: Building policies\n",
      "4:59:02 INFO: Running experiment\n",
      "4:59:02 INFO: Learning and obtaining policy feedback\n",
      "4:59:02 INFO: [1 of 3] Learning and obtaining random feedback\n",
      "Simulating online learning: 100%|█████| 100000/100000 [00:16<00:00, 5894.82it/s]\n",
      "4:59:20 INFO: [2 of 3] Learning and obtaining bts feedback\n",
      "Simulating online learning: 100%|█████| 100000/100000 [00:29<00:00, 3361.19it/s]\n",
      "4:59:52 INFO: [3 of 3] Learning and obtaining egreedy_0.1 feedback\n",
      "Simulating online learning: 100%|█████| 100000/100000 [00:17<00:00, 5759.49it/s]\n",
      "5:00:11 INFO: Done in 68.68 seconds\n",
      "5:00:11 INFO: Estimating reward confidence interval for random baseline feedback\n",
      "5:00:11 INFO: [1 of 3] Estimating reward confindence interval for random feedback\n",
      "5:00:11 INFO: [2 of 3] Estimating reward confindence interval for bts feedback\n",
      "5:00:12 INFO: [3 of 3] Estimating reward confindence interval for egreedy_0.1 feedback\n",
      "5:00:13 INFO: Done in 2.05 seconds\n",
      "5:00:13 INFO: Experiment finished in 70.73 seconds\n",
      "5:00:13 INFO: Writing output to results ../experiments/deezer_demo/results.pickle\n",
      "5:00:18 INFO: Bye!\n"
     ]
    }
   ],
   "source": [
    "!python ../scripting/obp_run.py --experiment-dir ../experiments/deezer_demo"
   ]
  },
  {
   "cell_type": "markdown",
   "metadata": {},
   "source": [
    "Once again we get a `results.pickle` file."
   ]
  },
  {
   "cell_type": "code",
   "execution_count": 11,
   "metadata": {},
   "outputs": [],
   "source": [
    "with open(\"../experiments/deezer_demo/results.pickle\",\"rb\") as f:\n",
    "    deezer_results = pickle.load(f)"
   ]
  },
  {
   "cell_type": "markdown",
   "metadata": {},
   "source": [
    "And here's the reward summary:"
   ]
  },
  {
   "cell_type": "code",
   "execution_count": 12,
   "metadata": {},
   "outputs": [
    {
     "data": {
      "text/plain": [
       "{'random': {'mean': 0.026948960972985,\n",
       "  '95.0% CI (lower)': 0.02641966290614939,\n",
       "  '95.0% CI (upper)': 0.02738962686410134},\n",
       " 'bts': {'mean': 0.2506382996283325,\n",
       "  '95.0% CI (lower)': 0.24929036553259037,\n",
       "  '95.0% CI (upper)': 0.2520430705067717},\n",
       " 'egreedy_0.1': {'mean': 0.05327880660531032,\n",
       "  '95.0% CI (lower)': 0.052508679141554,\n",
       "  '95.0% CI (upper)': 0.053848982936960416}}"
      ]
     },
     "execution_count": 12,
     "metadata": {},
     "output_type": "execute_result"
    }
   ],
   "source": [
    "deezer_results.reward_summary"
   ]
  },
  {
   "cell_type": "markdown",
   "metadata": {},
   "source": [
    "But sice we learned our bandits online, we have full feedback dictionaries for all of them:"
   ]
  },
  {
   "cell_type": "code",
   "execution_count": 13,
   "metadata": {},
   "outputs": [
    {
     "name": "stdout",
     "output_type": "stream",
     "text": [
      "Feedback for random:\n",
      "  action\n",
      "  reward\n",
      "  position\n",
      "  context\n",
      "  action_context\n",
      "  pscore\n",
      "  n_rounds\n",
      "  n_actions\n",
      "  policy\n",
      "  selected_actions\n",
      "  users\n",
      "  segments\n",
      "  batches\n",
      "Feedback for bts:\n",
      "  action\n",
      "  reward\n",
      "  position\n",
      "  context\n",
      "  action_context\n",
      "  pscore\n",
      "  n_rounds\n",
      "  n_actions\n",
      "  policy\n",
      "  selected_actions\n",
      "  users\n",
      "  segments\n",
      "  batches\n",
      "Feedback for egreedy_0.1:\n",
      "  action\n",
      "  reward\n",
      "  position\n",
      "  context\n",
      "  action_context\n",
      "  pscore\n",
      "  n_rounds\n",
      "  n_actions\n",
      "  policy\n",
      "  selected_actions\n",
      "  users\n",
      "  segments\n",
      "  batches\n"
     ]
    }
   ],
   "source": [
    "for policy_name, feedback in deezer_results.policy_feedback.items():\n",
    "    print(f\"Feedback for {policy_name}:\")\n",
    "    print(\"\\n\".join([f\"  {key}\" for key in feedback.keys()]))"
   ]
  },
  {
   "cell_type": "code",
   "execution_count": 14,
   "metadata": {},
   "outputs": [],
   "source": [
    "bts = pd.DataFrame(\n",
    "    {\n",
    "        \"reward\": deezer_results.policy_feedback[\"bts\"][\"reward\"],\n",
    "        \"batch\": deezer_results.policy_feedback[\"bts\"][\"batches\"],\n",
    "        \"pol\": \"bts\"\n",
    "    }\n",
    ")\n",
    "eps = pd.DataFrame(\n",
    "    {\n",
    "        \"reward\": deezer_results.policy_feedback[\"egreedy_0.1\"][\"reward\"],\n",
    "        \"batch\": deezer_results.policy_feedback[\"egreedy_0.1\"][\"batches\"],\n",
    "        \"pol\": \"egreedy_0.1\"\n",
    "    }\n",
    ")\n"
   ]
  },
  {
   "cell_type": "code",
   "execution_count": 15,
   "metadata": {},
   "outputs": [
    {
     "data": {
      "text/plain": [
       "Text(0, 0.5, 'cumulative rewards')"
      ]
     },
     "execution_count": 15,
     "metadata": {},
     "output_type": "execute_result"
    },
    {
     "data": {
      "image/png": "[encoded data removed]",
      "text/plain": [
       "<Figure size 720x432 with 1 Axes>"
      ]
     },
     "metadata": {
      "needs_background": "light"
     },
     "output_type": "display_data"
    }
   ],
   "source": [
    "fig, ax = plt.subplots(figsize=(10,6))\n",
    "ax.plot(bts.groupby(\"batch\").sum().cumsum(), label=\"bts\")\n",
    "ax.plot(eps.groupby(\"batch\").sum().cumsum(), label=\"egreedy_0.2\")\n",
    "ax.legend()\n",
    "ax.set_xlabel(\"batch\")\n",
    "ax.set_ylabel(\"cumulative rewards\")"
   ]
  },
  {
   "cell_type": "code",
   "execution_count": null,
   "metadata": {},
   "outputs": [],
   "source": []
  }
 ],
 "metadata": {
  "kernelspec": {
   "display_name": "Python 3",
   "language": "python",
   "name": "python3"
  },
  "language_info": {
   "codemirror_mode": {
    "name": "ipython",
    "version": 3
   },
   "file_extension": ".py",
   "mimetype": "text/x-python",
   "name": "python",
   "nbconvert_exporter": "python",
   "pygments_lexer": "ipython3",
   "version": "3.7.9"
  }
 },
 "nbformat": 4,
 "nbformat_minor": 4
}
