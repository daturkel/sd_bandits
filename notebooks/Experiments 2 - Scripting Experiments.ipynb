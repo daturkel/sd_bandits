{
 "cells": [
  {
   "cell_type": "code",
   "execution_count": 1,
   "metadata": {},
   "outputs": [],
   "source": [
    "import pickle\n",
    "\n",
    "import matplotlib.pyplot as plt\n",
    "import pandas as pd"
   ]
  },
  {
   "cell_type": "markdown",
   "metadata": {},
   "source": [
    "# Scripting experiments\n",
    "\n",
    "With the new and improved `obd_run.py` and `Experiment` class (see Experiment Interface notebook), we can easily script end to end experiments.\n",
    "\n",
    "## An OpenBanditDataset experiment\n",
    "\n",
    "An OpenBanditDataset experiment requires a `dataset_spec.yaml`, `estimator_spec.yaml`, and `policy_spec.yaml`, where the `policy_spec.yaml` can be a _list_ of policies. "
   ]
  },
  {
   "cell_type": "code",
   "execution_count": 2,
   "metadata": {},
   "outputs": [
    {
     "name": "stdout",
     "output_type": "stream",
     "text": [
      "dataset_spec.yaml   estimator_spec.yaml policy_spec.yaml    results.pickle\n"
     ]
    }
   ],
   "source": [
    "!ls ../experiments/obd_demo/"
   ]
  },
  {
   "cell_type": "code",
   "execution_count": 3,
   "metadata": {},
   "outputs": [
    {
     "name": "stdout",
     "output_type": "stream",
     "text": [
      "- key: BernoulliTS\n",
      "  name: obd_demo\n",
      "  parameters:\n",
      "    batch_size: 5\n",
      "    is_zozotown_prior: True\n",
      "    campaign: all\n",
      "- key: EpsilonGreedy\n",
      "  name: obd_demo\n",
      "  parameters:\n",
      "    epsilon: 0.2\n",
      "    batch_size: 5\n"
     ]
    }
   ],
   "source": [
    "!cat ../experiments/obd_demo/policy_spec.yaml"
   ]
  },
  {
   "cell_type": "markdown",
   "metadata": {},
   "source": [
    "Then we just point `obp_run.py` at the experiment directory and let it do it's thing!"
   ]
  },
  {
   "cell_type": "code",
   "execution_count": 4,
   "metadata": {},
   "outputs": [
    {
     "name": "stdout",
     "output_type": "stream",
     "text": [
      "6:35:54 INFO: Building dataset\n",
      "/Users/danturkel/.pyenv/versions/sd_bandits/lib/python3.7/site-packages/numpy/lib/arraysetops.py:580: FutureWarning: elementwise comparison failed; returning scalar instead, but in the future will perform elementwise comparison\n",
      "  mask |= (ar1 == a)\n",
      "6:36:08 INFO: Building policies\n",
      "6:36:08 INFO: Building estimators\n",
      "6:36:08 INFO: Running experiment\n",
      "6:36:08 INFO: Obtaining logged feedback\n",
      "6:36:08 INFO: Done in 0.0 seconds\n",
      "6:36:08 INFO: Fitting regression model\n",
      "6:37:18 INFO: Done in 70.46 seconds\n",
      "6:37:18 INFO: Running simulations\n",
      "6:37:18 INFO: [1 of 2] Running simulation for bts\n",
      "100%|██████████████████████████████| 1374327/1374327 [01:15<00:00, 18235.91it/s]\n",
      "6:38:37 INFO: [2 of 2] Running simulation for egreedy_1.0\n",
      "100%|██████████████████████████████| 1374327/1374327 [00:21<00:00, 62808.15it/s]\n",
      "6:39:05 INFO: Done in 106.54 seconds\n",
      "6:39:05 INFO: Estimating rewards\n",
      "6:39:05 INFO: [1 of 3] Estimating reward confidence interval for logged\n",
      "6:39:08 INFO: [2 of 3] Estimating rewards and reward confidence interval for bts\n",
      "6:39:22 INFO: [3 of 3] Estimating rewards and reward confidence interval for egreedy_1.0\n",
      "6:39:28 INFO: Done in 23.0 seconds\n",
      "6:39:28 INFO: Experiment finished in 200.02 seconds\n",
      "6:39:28 INFO: Writing output to results ../experiments/obd_demo/results.pickle\n",
      "6:39:28 INFO: Bye!\n"
     ]
    }
   ],
   "source": [
    "!python ../scripting/obp_run.py --experiment-dir ../experiments/obd_demo"
   ]
  },
  {
   "cell_type": "markdown",
   "metadata": {},
   "source": [
    "It drops a `results.pickle` file in the experiments directory with the `OBDExperiment` object."
   ]
  },
  {
   "cell_type": "code",
   "execution_count": 5,
   "metadata": {},
   "outputs": [],
   "source": [
    "with open(\"../experiments/obd_demo/results.pickle\",\"rb\") as f:\n",
    "    obd_results = pickle.load(f)"
   ]
  },
  {
   "cell_type": "markdown",
   "metadata": {},
   "source": [
    "For a quick summary of the outcomes, we have `reward_summary`:"
   ]
  },
  {
   "cell_type": "code",
   "execution_count": 6,
   "metadata": {},
   "outputs": [
    {
     "data": {
      "text/plain": [
       "{'logged': {'mean': 0.0034761887090917964,\n",
       "  '95.0% CI (lower)': 0.0033740150633728362,\n",
       "  '95.0% CI (upper)': 0.003591994481662661},\n",
       " 'bts': {'mean': 0.003826173046107056,\n",
       "  '95.0% CI (lower)': 0.0038242559694829756,\n",
       "  '95.0% CI (upper)': 0.0038278703616714815},\n",
       " 'egreedy_1.0': {'mean': 0.003618176068505505,\n",
       "  '95.0% CI (lower)': 0.003616472341521467,\n",
       "  '95.0% CI (upper)': 0.0036200831868479348}}"
      ]
     },
     "execution_count": 6,
     "metadata": {},
     "output_type": "execute_result"
    }
   ],
   "source": [
    "obd_results[\"reward_summary\"]"
   ]
  },
  {
   "cell_type": "code",
   "execution_count": 7,
   "metadata": {},
   "outputs": [
    {
     "data": {
      "text/plain": [
       "4972.714272567139"
      ]
     },
     "execution_count": 7,
     "metadata": {},
     "output_type": "execute_result"
    }
   ],
   "source": [
    "obd_results[\"policy_feedback\"][\"egreedy_1.0\"][\"reward\"].sum()"
   ]
  },
  {
   "cell_type": "markdown",
   "metadata": {},
   "source": [
    "If we want to dive deeper into the rewards for each policy, we can access the full feedback dictionary for the _logged_ baseline data and partial feedback dictionaries for the _estimated_ policies:"
   ]
  },
  {
   "cell_type": "code",
   "execution_count": 8,
   "metadata": {},
   "outputs": [
    {
     "name": "stdout",
     "output_type": "stream",
     "text": [
      "Feedback for logged:\n",
      "  n_rounds\n",
      "  n_actions\n",
      "  reward\n",
      "Feedback for bts:\n",
      "  reward\n",
      "Feedback for egreedy_1.0:\n",
      "  reward\n"
     ]
    }
   ],
   "source": [
    "for policy_name, feedback in obd_results[\"policy_feedback\"].items():\n",
    "    print(f\"Feedback for {policy_name}:\")\n",
    "    print(\"\\n\".join([f\"  {key}\" for key in feedback.keys()]))"
   ]
  },
  {
   "cell_type": "markdown",
   "metadata": {},
   "source": [
    "## A Deezer experiment\n",
    "\n",
    "Deezer experiments only require a `dataset_spec.yaml` and `policy_spec.yaml`, since they don't use off-policy estimators."
   ]
  },
  {
   "cell_type": "code",
   "execution_count": 9,
   "metadata": {},
   "outputs": [
    {
     "name": "stdout",
     "output_type": "stream",
     "text": [
      "dataset_spec.yaml policy_spec.yaml  results.pickle\n"
     ]
    }
   ],
   "source": [
    "!ls ../experiments/deezer_demo"
   ]
  },
  {
   "cell_type": "markdown",
   "metadata": {},
   "source": [
    "Notice we include the random baseline _as a Random policy_. \n",
    "\n",
    "Also notice that extra parameters to pass to DeezerDataset's obtain_batch_bandit_feedback method (like `cascade`, `users_per_batch`, etc) can be included in `meta`."
   ]
  },
  {
   "cell_type": "code",
   "execution_count": 10,
   "metadata": {},
   "outputs": [
    {
     "name": "stdout",
     "output_type": "stream",
     "text": [
      "- key: Random\n",
      "  name: deezer_demo\n",
      "  parameters:\n",
      "    len_list: 12\n",
      "    n_actions: 862\n",
      "  meta:\n",
      "    users_per_batch: 1000\n",
      "- key: EpsilonGreedy\n",
      "  name: deezer_demo\n",
      "  parameters:\n",
      "    batch_size: 1\n",
      "    epsilon: 0.1\n",
      "    len_list: 12\n",
      "    n_actions: 862\n",
      "    policy_name: \"egreedy_0.1\"\n",
      "  meta:\n",
      "    users_per_batch: 1000\n"
     ]
    }
   ],
   "source": [
    "!cat ../experiments/deezer_demo/policy_spec.yaml"
   ]
  },
  {
   "cell_type": "code",
   "execution_count": 11,
   "metadata": {},
   "outputs": [
    {
     "name": "stdout",
     "output_type": "stream",
     "text": [
      "6:39:33 INFO: Building dataset\n",
      "6:39:50 INFO: Building policies\n",
      "6:39:50 INFO: Running experiment\n",
      "6:39:50 INFO: Learning and obtaining policy feedback\n",
      "6:39:50 INFO: [1 of 2] Learning and obtaining random feedback\n",
      "Simulating online learning: 100%|█████| 100000/100000 [00:18<00:00, 5549.77it/s]\n",
      "6:40:10 INFO: [2 of 2] Learning and obtaining egreedy_0.1 feedback\n",
      "Simulating online learning: 100%|█████| 100000/100000 [00:17<00:00, 5580.14it/s]\n",
      "6:40:29 INFO: Done in 39.11 seconds\n",
      "6:40:29 INFO: Estimating reward confidence interval for random baseline feedback\n",
      "6:40:29 INFO: [1 of 2] Estimating reward confindence interval for random feedback\n",
      "6:40:30 INFO: [2 of 2] Estimating reward confindence interval for egreedy_0.1 feedback\n",
      "6:40:30 INFO: Done in 1.34 seconds\n",
      "6:40:30 INFO: Experiment finished in 40.45 seconds\n",
      "6:40:30 INFO: Writing output to results ../experiments/deezer_demo/results.pickle\n",
      "6:40:31 INFO: Bye!\n"
     ]
    }
   ],
   "source": [
    "!python ../scripting/obp_run.py --experiment-dir ../experiments/deezer_demo"
   ]
  },
  {
   "cell_type": "markdown",
   "metadata": {},
   "source": [
    "Once again we get a `results.pickle` file."
   ]
  },
  {
   "cell_type": "code",
   "execution_count": 16,
   "metadata": {},
   "outputs": [],
   "source": [
    "with open(\"../experiments/deezer_demo/results.pickle\",\"rb\") as f:\n",
    "    deezer_results = pickle.load(f)"
   ]
  },
  {
   "cell_type": "markdown",
   "metadata": {},
   "source": [
    "And here's the reward summary:"
   ]
  },
  {
   "cell_type": "code",
   "execution_count": 18,
   "metadata": {},
   "outputs": [
    {
     "data": {
      "text/plain": [
       "{'random': {'mean': 0.027138331541681427,\n",
       "  '95.0% CI (lower)': 0.026726742056175794,\n",
       "  '95.0% CI (upper)': 0.027597169590362312},\n",
       " 'egreedy_0.1': {'mean': 0.061335380746257835,\n",
       "  '95.0% CI (lower)': 0.060672018958721256,\n",
       "  '95.0% CI (upper)': 0.06211212003965855}}"
      ]
     },
     "execution_count": 18,
     "metadata": {},
     "output_type": "execute_result"
    }
   ],
   "source": [
    "deezer_results[\"reward_summary\"]"
   ]
  },
  {
   "cell_type": "code",
   "execution_count": 25,
   "metadata": {},
   "outputs": [],
   "source": [
    "random = pd.DataFrame(\n",
    "    {\n",
    "        \"reward\": deezer_results[\"policy_feedback\"][\"random\"][\"reward\"],\n",
    "        \"batch\": deezer_results[\"policy_feedback\"][\"random\"][\"batches\"],\n",
    "        \"pol\": \"bts\"\n",
    "    }\n",
    ")\n",
    "eps = pd.DataFrame(\n",
    "    {\n",
    "        \"reward\": deezer_results[\"policy_feedback\"][\"egreedy_0.1\"][\"reward\"],\n",
    "        \"batch\": deezer_results[\"policy_feedback\"][\"egreedy_0.1\"][\"batches\"],\n",
    "        \"pol\": \"egreedy_0.1\"\n",
    "    }\n",
    ")\n"
   ]
  },
  {
   "cell_type": "code",
   "execution_count": 27,
   "metadata": {},
   "outputs": [
    {
     "data": {
      "text/plain": [
       "Text(0, 0.5, 'cumulative rewards')"
      ]
     },
     "execution_count": 27,
     "metadata": {},
     "output_type": "execute_result"
    },
    {
     "data": {
      "image/png": "[encoded data removed]",
      "text/plain": [
       "<Figure size 720x432 with 1 Axes>"
      ]
     },
     "metadata": {
      "needs_background": "light"
     },
     "output_type": "display_data"
    }
   ],
   "source": [
    "fig, ax = plt.subplots(figsize=(10,6))\n",
    "ax.plot(eps.groupby(\"batch\").sum().cumsum(), label=\"egreedy_0.2\")\n",
    "ax.plot(random.groupby(\"batch\").sum().cumsum(), label=\"random\")\n",
    "ax.legend()\n",
    "ax.set_xlabel(\"batch\")\n",
    "ax.set_ylabel(\"cumulative rewards\")"
   ]
  },
  {
   "cell_type": "code",
   "execution_count": null,
   "metadata": {},
   "outputs": [],
   "source": []
  }
 ],
 "metadata": {
  "kernelspec": {
   "display_name": "Python 3",
   "language": "python",
   "name": "python3"
  },
  "language_info": {
   "codemirror_mode": {
    "name": "ipython",
    "version": 3
   },
   "file_extension": ".py",
   "mimetype": "text/x-python",
   "name": "python",
   "nbconvert_exporter": "python",
   "pygments_lexer": "ipython3",
   "version": "3.7.9"
  }
 },
 "nbformat": 4,
 "nbformat_minor": 4
}
