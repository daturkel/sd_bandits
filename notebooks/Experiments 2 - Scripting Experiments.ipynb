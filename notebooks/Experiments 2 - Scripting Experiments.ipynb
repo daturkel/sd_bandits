{
 "cells": [
  {
   "cell_type": "code",
   "execution_count": 1,
   "metadata": {},
   "outputs": [],
   "source": [
    "import pickle\n",
    "\n",
    "import matplotlib.pyplot as plt\n",
    "import pandas as pd"
   ]
  },
  {
   "cell_type": "markdown",
   "metadata": {},
   "source": [
    "# Scripting experiments\n",
    "\n",
    "With the new and improved `obd_run.py` and `Experiment` class (see Experiment Interface notebook), we can easily script end to end experiments.\n",
    "\n",
    "## An OpenBanditDataset experiment\n",
    "\n",
    "An OpenBanditDataset experiment requires a `dataset_spec.yaml`, `estimator_spec.yaml`, and `policy_spec.yaml`, where the `policy_spec.yaml` can be a _list_ of policies. "
   ]
  },
  {
   "cell_type": "code",
   "execution_count": 2,
   "metadata": {},
   "outputs": [
    {
     "name": "stdout",
     "output_type": "stream",
     "text": [
      "dataset_spec.yaml   estimator_spec.yaml policy_spec.yaml\n"
     ]
    }
   ],
   "source": [
    "!ls ../experiments/obd_demo/"
   ]
  },
  {
   "cell_type": "code",
   "execution_count": 3,
   "metadata": {},
   "outputs": [
    {
     "name": "stdout",
     "output_type": "stream",
     "text": [
      "- key: BernoulliTS\n",
      "  name: obd_demo\n",
      "  parameters:\n",
      "    batch_size: 5\n",
      "    len_list: 3\n",
      "    n_actions: 3\n",
      "  type: policy\n",
      "- key: LinUCB\n",
      "  name: obd_demo\n",
      "  parameters:\n",
      "    dim: 27\n",
      "    batch_size: 5\n",
      "    len_list: 3\n",
      "    n_actions: 3\n",
      "  type: policy\n"
     ]
    }
   ],
   "source": [
    "!cat ../experiments/obd_demo/policy_spec.yaml"
   ]
  },
  {
   "cell_type": "markdown",
   "metadata": {},
   "source": [
    "Then we just point `obp_run.py` at the experiment directory and let it do it's thing!"
   ]
  },
  {
   "cell_type": "code",
   "execution_count": 4,
   "metadata": {},
   "outputs": [
    {
     "name": "stdout",
     "output_type": "stream",
     "text": [
      "9:58:54 INFO: Building dataset\n",
      "9:58:56 INFO: Building policies\n",
      "9:58:56 INFO: Building estimators\n",
      "9:58:56 INFO: Running experiment\n",
      "9:58:56 INFO: Obtaining logged feedback\n",
      "9:58:56 INFO: Done in 0.0 seconds\n",
      "9:58:56 INFO: Fitting regression model\n",
      "9:59:04 INFO: Done in 7.76 seconds\n",
      "9:59:04 INFO: Running simulations\n",
      "9:59:04 INFO: [1 of 2] Running simulation for bts\n",
      "100%|████████████████████████████████| 452949/452949 [00:13<00:00, 32636.61it/s]\n",
      "9:59:19 INFO: [2 of 2] Running simulation for linear_ucb_0.0\n",
      "100%|████████████████████████████████| 452949/452949 [00:36<00:00, 12432.60it/s]\n",
      "9:59:56 INFO: Done in 51.41 seconds\n",
      "9:59:56 INFO: Estimating rewards\n",
      "9:59:56 INFO: Estimating reward confidence interval for logged feedback\n",
      "9:59:56 INFO: [1 of 2] Estimating reward confidence interval for bts\n",
      "10:00:57 INFO: [2 of 2] Estimating reward confidence interval for linear_ucb_0.0\n",
      "10:02:00 INFO: Done in 124.57 seconds\n",
      "10:02:00 INFO: Experiment finished in 183.74 seconds\n",
      "10:02:00 INFO: Writing output to results ../experiments/obd_demo/results.pickle\n",
      "10:02:03 INFO: Bye!\n"
     ]
    }
   ],
   "source": [
    "!python ../scripting/obp_run.py --experiment-dir ../experiments/obd_demo"
   ]
  },
  {
   "cell_type": "markdown",
   "metadata": {},
   "source": [
    "It drops a `results.pickle` file in the experiments directory with the `OBDExperiment` object."
   ]
  },
  {
   "cell_type": "code",
   "execution_count": 5,
   "metadata": {},
   "outputs": [],
   "source": [
    "with open(\"../experiments/obd_demo/results.pickle\",\"rb\") as f:\n",
    "    obd_results = pickle.load(f)"
   ]
  },
  {
   "cell_type": "markdown",
   "metadata": {},
   "source": [
    "OBD experiments use off-policy estimators, so we just get a confidence interval for each policy as output:"
   ]
  },
  {
   "cell_type": "code",
   "execution_count": 6,
   "metadata": {},
   "outputs": [
    {
     "data": {
      "text/plain": [
       "{'logged': {'mean': 0.005124417980832279,\n",
       "  '95.0% CI (lower)': 0.004902925053372455,\n",
       "  '95.0% CI (upper)': 0.0053510991303656694},\n",
       " 'bts': {'mean': 0.00541277551078753,\n",
       "  '95.0% CI (lower)': 0.0054070022780304105,\n",
       "  '95.0% CI (upper)': 0.005418496385973897},\n",
       " 'linear_ucb_0.0': {'mean': 0.005327403099059197,\n",
       "  '95.0% CI (lower)': 0.005321834978560733,\n",
       "  '95.0% CI (upper)': 0.005333151384723679}}"
      ]
     },
     "execution_count": 6,
     "metadata": {},
     "output_type": "execute_result"
    }
   ],
   "source": [
    "obd_results.rewards"
   ]
  },
  {
   "cell_type": "markdown",
   "metadata": {},
   "source": [
    "## A Deezer experiment\n",
    "\n",
    "Deezer experiments only require a `dataset_spec.yaml` and `policy_spec.yaml`, since they don't use off-policy estimators."
   ]
  },
  {
   "cell_type": "code",
   "execution_count": 7,
   "metadata": {},
   "outputs": [
    {
     "name": "stdout",
     "output_type": "stream",
     "text": [
      "dataset_spec.yaml policy_spec.yaml\n"
     ]
    }
   ],
   "source": [
    "!ls ../experiments/deezer_demo"
   ]
  },
  {
   "cell_type": "code",
   "execution_count": 8,
   "metadata": {},
   "outputs": [
    {
     "name": "stdout",
     "output_type": "stream",
     "text": [
      "10:02:07 INFO: Building dataset\n",
      "10:02:24 INFO: Building policies\n",
      "10:02:24 INFO: Running experiment\n",
      "10:02:24 INFO: Obtaining random baseline feedback\n",
      "Calculating click probabilities: 100%|█| 100000/100000 [00:16<00:00, 6157.31it/s\n",
      "Generating feedback: 100%|███████████| 100000/100000 [00:03<00:00, 30689.28it/s]\n",
      "10:02:45 INFO: Done in 20.93 seconds\n",
      "10:02:45 INFO: Learning and obtaining policy feedback\n",
      "10:02:45 INFO: [1 of 2] Learning and obtaining bts feedback\n",
      "Simulating online learning: 100%|█████| 100000/100000 [00:30<00:00, 3305.76it/s]\n",
      "10:03:16 INFO: [2 of 2] Learning and obtaining egreedy_0.1 feedback\n",
      "Simulating online learning: 100%|█████| 100000/100000 [00:19<00:00, 5176.87it/s]\n",
      "10:03:37 INFO: Done in 52.89 seconds\n",
      "10:03:37 INFO: Estimating reward confidence interval for random baseline feedback\n",
      "10:03:38 INFO: [1 of 2] Estimating reward confindence interval for bts feedback\n",
      "10:03:39 INFO: [2 of 2] Estimating reward confindence interval for egreedy_0.1 feedback\n",
      "10:03:40 INFO: Done in 2.09 seconds\n",
      "10:03:40 INFO: Experiment finished in 75.91 seconds\n",
      "10:03:40 INFO: Writing output to results ../experiments/deezer_demo/results.pickle\n",
      "10:03:45 INFO: Bye!\n"
     ]
    }
   ],
   "source": [
    "!python ../scripting/obp_run.py --experiment-dir ../experiments/deezer_demo"
   ]
  },
  {
   "cell_type": "markdown",
   "metadata": {},
   "source": [
    "Once again we get a `results.pickle` file."
   ]
  },
  {
   "cell_type": "code",
   "execution_count": 9,
   "metadata": {},
   "outputs": [],
   "source": [
    "with open(\"../experiments/deezer_demo/results.pickle\",\"rb\") as f:\n",
    "    deezer_results = pickle.load(f)"
   ]
  },
  {
   "cell_type": "markdown",
   "metadata": {},
   "source": [
    "We have the rewards intervals:"
   ]
  },
  {
   "cell_type": "code",
   "execution_count": 10,
   "metadata": {},
   "outputs": [
    {
     "data": {
      "text/plain": [
       "{'random': {'mean': 0.02699252613151486,\n",
       "  '95.0% CI (lower)': 0.026517594669501272,\n",
       "  '95.0% CI (upper)': 0.027457833749215527},\n",
       " 'bts': {'mean': 0.25231972103413514,\n",
       "  '95.0% CI (lower)': 0.25093674231073093,\n",
       "  '95.0% CI (upper)': 0.2537817037622252},\n",
       " 'egreedy_0.1': {'mean': 0.06192555479448775,\n",
       "  '95.0% CI (lower)': 0.06117091214775998,\n",
       "  '95.0% CI (upper)': 0.06255089308380953}}"
      ]
     },
     "execution_count": 10,
     "metadata": {},
     "output_type": "execute_result"
    }
   ],
   "source": [
    "deezer_results.rewards"
   ]
  },
  {
   "cell_type": "markdown",
   "metadata": {},
   "source": [
    "But sice we learned our bandits online, we also have their rewards as they learned:"
   ]
  },
  {
   "cell_type": "code",
   "execution_count": 11,
   "metadata": {},
   "outputs": [],
   "source": [
    "bts = pd.DataFrame(\n",
    "    {\n",
    "        \"reward\": deezer_results.policy_feedback[\"bts\"][\"reward\"],\n",
    "        \"batch\": deezer_results.policy_feedback[\"bts\"][\"batches\"],\n",
    "        \"pol\": \"bts\"\n",
    "    }\n",
    ")\n",
    "eps = pd.DataFrame(\n",
    "    {\n",
    "        \"reward\": deezer_results.policy_feedback[\"egreedy_0.1\"][\"reward\"],\n",
    "        \"batch\": deezer_results.policy_feedback[\"egreedy_0.1\"][\"batches\"],\n",
    "        \"pol\": \"egreedy_0.1\"\n",
    "    }\n",
    ")\n"
   ]
  },
  {
   "cell_type": "code",
   "execution_count": 12,
   "metadata": {},
   "outputs": [
    {
     "data": {
      "text/plain": [
       "Text(0, 0.5, 'cumulative rewards')"
      ]
     },
     "execution_count": 12,
     "metadata": {},
     "output_type": "execute_result"
    },
    {
     "data": {
      "image/png": "[encoded data removed]",
      "text/plain": [
       "<Figure size 720x432 with 1 Axes>"
      ]
     },
     "metadata": {
      "needs_background": "light"
     },
     "output_type": "display_data"
    }
   ],
   "source": [
    "fig, ax = plt.subplots(figsize=(10,6))\n",
    "ax.plot(bts.groupby(\"batch\").sum().cumsum(), label=\"bts\")\n",
    "ax.plot(eps.groupby(\"batch\").sum().cumsum(), label=\"egreedy_0.2\")\n",
    "ax.legend()\n",
    "ax.set_xlabel(\"batch\")\n",
    "ax.set_ylabel(\"cumulative rewards\")"
   ]
  },
  {
   "cell_type": "code",
   "execution_count": null,
   "metadata": {},
   "outputs": [],
   "source": []
  }
 ],
 "metadata": {
  "kernelspec": {
   "display_name": "Python 3",
   "language": "python",
   "name": "python3"
  },
  "language_info": {
   "codemirror_mode": {
    "name": "ipython",
    "version": 3
   },
   "file_extension": ".py",
   "mimetype": "text/x-python",
   "name": "python",
   "nbconvert_exporter": "python",
   "pygments_lexer": "ipython3",
   "version": "3.7.9"
  }
 },
 "nbformat": 4,
 "nbformat_minor": 4
}
