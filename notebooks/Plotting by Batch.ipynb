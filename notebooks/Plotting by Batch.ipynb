{
 "cells": [
  {
   "cell_type": "code",
   "execution_count": 1,
   "metadata": {},
   "outputs": [],
   "source": [
    "import matplotlib.pyplot as plt\n",
    "import numpy as np\n",
    "import pandas as pd\n",
    "\n",
    "from obp.ope import ReplayMethod\n",
    "from obp.policy import EpsilonGreedy\n",
    "from sd_bandits.obp_extensions.policy import ExploreThenCommit, SegmentPolicy \n",
    "\n",
    "from sd_bandits.obp_extensions.dataset import DeezerDataset"
   ]
  },
  {
   "cell_type": "markdown",
   "metadata": {},
   "source": [
    "# Load Deezer Data"
   ]
  },
  {
   "cell_type": "code",
   "execution_count": 2,
   "metadata": {},
   "outputs": [],
   "source": [
    "user_features_path = \"../data/deezer_carousel_bandits/user_features.csv\"\n",
    "playlist_features_path = \"../data/deezer_carousel_bandits/playlist_features.csv\"\n",
    "\n",
    "deezer_data = DeezerDataset(\n",
    "    user_features_path,\n",
    "    playlist_features_path,\n",
    "    len_list=12,\n",
    "    len_init=3,\n",
    ")"
   ]
  },
  {
   "cell_type": "markdown",
   "metadata": {},
   "source": [
    "# Get policy feedback\n",
    "\n",
    "## Random policy"
   ]
  },
  {
   "cell_type": "code",
   "execution_count": 3,
   "metadata": {
    "scrolled": true
   },
   "outputs": [
    {
     "name": "stderr",
     "output_type": "stream",
     "text": [
      "Calculating click probabilities: 100%|██████████| 100000/100000 [00:17<00:00, 5827.57it/s]\n",
      "Generating feedback: 100%|██████████| 100000/100000 [00:03<00:00, 27930.86it/s]\n"
     ]
    }
   ],
   "source": [
    "random_deezer_feedback = deezer_data.obtain_batch_bandit_feedback(\n",
    "    n_batches=100,\n",
    "    users_per_batch=1000,\n",
    "    cascade=True,\n",
    "    seed=1,\n",
    ")"
   ]
  },
  {
   "cell_type": "markdown",
   "metadata": {},
   "source": [
    "## Epsilon greedy (segmented and unsegmented)"
   ]
  },
  {
   "cell_type": "code",
   "execution_count": 4,
   "metadata": {},
   "outputs": [
    {
     "name": "stderr",
     "output_type": "stream",
     "text": [
      "Simulating online learning: 100%|██████████| 100000/100000 [00:18<00:00, 5440.05it/s]\n",
      "Simulating online learning: 100%|██████████| 100000/100000 [00:24<00:00, 4066.49it/s]\n"
     ]
    }
   ],
   "source": [
    "e_greedy = EpsilonGreedy(\n",
    "    n_actions=deezer_data.n_actions,\n",
    "    len_list=12,\n",
    "    # this batch_size setting will be ignored because supplying the policy\n",
    "    # to `deezer_data.obtain_batch_bandit_feedback` will manually update\n",
    "    # once per batch of *users*\n",
    "    batch_size=1,\n",
    "    random_state=1,\n",
    "    epsilon=0.1,\n",
    "    policy_name=\"e_greedy_explore\",\n",
    ")\n",
    "\n",
    "e_greedy_seg = SegmentPolicy(\n",
    "    EpsilonGreedy(\n",
    "        n_actions=deezer_data.n_actions,\n",
    "        len_list=12,\n",
    "        # this batch_size setting will be ignored because supplying the policy\n",
    "        # to `deezer_data.obtain_batch_bandit_feedback` will manually update\n",
    "        # once per batch of *users*\n",
    "        batch_size=1,\n",
    "        random_state=1,\n",
    "        epsilon=0.1,\n",
    "        policy_name=\"e_greedy_explore\",\n",
    "    ),\n",
    "    n_segments=100,\n",
    ")\n",
    "\n",
    "e_greedy_feedback = deezer_data.obtain_batch_bandit_feedback(\n",
    "    policy=e_greedy, n_batches=100, users_per_batch=1000, cascade=True, seed=1\n",
    ")\n",
    "\n",
    "\n",
    "e_greedy_seg_feedback = deezer_data.obtain_batch_bandit_feedback(\n",
    "    policy=e_greedy_seg, n_batches=100, users_per_batch=1000, cascade=True, seed=1\n",
    ")"
   ]
  },
  {
   "cell_type": "markdown",
   "metadata": {},
   "source": [
    "# Realign the data to plot by batch instead of round\n",
    "\n",
    "All of these datasets have the same users, but each user is being shown different actions and, thus, due to the cascade effect the number of observed rewards will be different.\n",
    "\n",
    "We group the rewards by batch so that all plots have the same x-axis."
   ]
  },
  {
   "cell_type": "code",
   "execution_count": 5,
   "metadata": {},
   "outputs": [],
   "source": [
    "random = pd.DataFrame(\n",
    "    dict(\n",
    "        reward=random_deezer_feedback[\"reward\"],\n",
    "        batch=random_deezer_feedback[\"batches\"],\n",
    "        pol=\"random\",\n",
    "    )\n",
    ")\n",
    "eps = pd.DataFrame(\n",
    "    dict(\n",
    "        reward=e_greedy_feedback[\"reward\"],\n",
    "        batch=e_greedy_feedback[\"batches\"],\n",
    "        pol=\"eps\",\n",
    "    )\n",
    ")\n",
    "eps_seg = pd.DataFrame(\n",
    "    dict(\n",
    "        reward=e_greedy_seg_feedback[\"reward\"],\n",
    "        batch=e_greedy_seg_feedback[\"batches\"],\n",
    "        pol=\"eps_seg\",\n",
    "    )\n",
    ")"
   ]
  },
  {
   "cell_type": "code",
   "execution_count": 6,
   "metadata": {},
   "outputs": [
    {
     "data": {
      "text/plain": [
       "Text(0, 0.5, 'cumulative rewards')"
      ]
     },
     "execution_count": 6,
     "metadata": {},
     "output_type": "execute_result"
    },
    {
     "data": {
      "image/png": "[encoded data removed]",
      "text/plain": [
       "<Figure size 720x432 with 1 Axes>"
      ]
     },
     "metadata": {
      "needs_background": "light"
     },
     "output_type": "display_data"
    }
   ],
   "source": [
    "fig, ax = plt.subplots(figsize=(10,6))\n",
    "ax.plot(random.groupby(\"batch\").sum().cumsum(), label=\"random\")\n",
    "ax.plot(eps.groupby(\"batch\").sum().cumsum(), label=\"eps\")\n",
    "ax.plot(eps_seg.groupby(\"batch\").sum().cumsum(), label=\"eps_seg\")\n",
    "ax.legend()\n",
    "ax.set_xlabel(\"batch\")\n",
    "ax.set_ylabel(\"cumulative rewards\")"
   ]
  },
  {
   "cell_type": "code",
   "execution_count": null,
   "metadata": {},
   "outputs": [],
   "source": []
  }
 ],
 "metadata": {
  "kernelspec": {
   "display_name": "Python 3",
   "language": "python",
   "name": "python3"
  },
  "language_info": {
   "codemirror_mode": {
    "name": "ipython",
    "version": 3
   },
   "file_extension": ".py",
   "mimetype": "text/x-python",
   "name": "python",
   "nbconvert_exporter": "python",
   "pygments_lexer": "ipython3",
   "version": "3.7.9"
  }
 },
 "nbformat": 4,
 "nbformat_minor": 4
}
