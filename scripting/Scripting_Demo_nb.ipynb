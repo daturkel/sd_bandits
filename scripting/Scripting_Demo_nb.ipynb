{
 "cells": [
  {
   "cell_type": "markdown",
   "metadata": {},
   "source": [
    "## Slurm Experiment Running\n",
    "\n",
    "I wrote most of the key experimental organization tools to the ```sd_bandits.utils```directory. Note that I'm using the ```sd_bandits_env``` defined in ```conda_envs/sd_bandits.yml```. Let's start by importing this:"
   ]
  },
  {
   "cell_type": "code",
   "execution_count": 2,
   "metadata": {},
   "outputs": [],
   "source": [
    "import sys\n",
    "import os\n",
    "root_dir = os.path.expanduser('~/sd_bandits')\n",
    "sys.path.append(root_dir)\n",
    "\n",
    "import sd_bandits.utils as utils"
   ]
  },
  {
   "cell_type": "markdown",
   "metadata": {},
   "source": [
    "The key functions are:\n",
    "* ```build_obj_spec()```, which builds a .yml file for a specific policy, estimator, or dataset\n",
    "* ```load_obj_from_spec()```, which loads a dictionary from the .yml file created with the above function\n",
    "* ```build_experiment()```, which builds a policy, estimator, and dataset, and constructs a slurm batch submission script"
   ]
  },
  {
   "cell_type": "markdown",
   "metadata": {},
   "source": [
    "Let's say I wanted to test this out on the full ```obp``` dataset w/ the bts policy data:"
   ]
  },
  {
   "cell_type": "code",
   "execution_count": 18,
   "metadata": {},
   "outputs": [
    {
     "name": "stdout",
     "output_type": "stream",
     "text": [
      "{'name': 'notebook_demo_1', 'type': 'dataset', 'key': 'obp', 'parameters': {'data_path': '~/sd_bandits/data/obd', 'campaign': 'all', 'behavior_policy': 'bts'}}\n"
     ]
    }
   ],
   "source": [
    "dataset_name = 'obp'\n",
    "#this is all the arguments I'd pass to the OBP dataset constructor\n",
    "dataset_params = {'data_path': '~/sd_bandits/data/obd',\n",
    "                       'campaign': 'all',\n",
    "                       'behavior_policy': 'bts'}\n",
    "\n",
    "dataset_dict = utils.build_obj_spec(dataset_name, dataset_params, experiment_name='notebook_demo_1',\n",
    "                                    obj_type='dataset', output='./policy_yamls/')\n",
    "print(dataset_dict)"
   ]
  },
  {
   "cell_type": "markdown",
   "metadata": {},
   "source": [
    "I've also saved this tp ```./policy_yamls/notebook_demo_1/dataset_sepc.yml```. I can load the dataset by:"
   ]
  },
  {
   "cell_type": "code",
   "execution_count": 10,
   "metadata": {},
   "outputs": [
    {
     "name": "stdout",
     "output_type": "stream",
     "text": [
      "OpenBanditDataset(behavior_policy='bts', campaign='all', data_path=PosixPath('~/sd_bandits/data/obd/bts/all'), dataset_name='obd')\n"
     ]
    }
   ],
   "source": [
    "dataset = utils.load_obj_from_spec('./policy_yamls/notebook_demo_1/dataset_spec.yaml')\n",
    "print(dataset)"
   ]
  },
  {
   "cell_type": "markdown",
   "metadata": {},
   "source": [
    "I can repeat this for a policy and estimator. For sake of example, I'll do a ```LogisticTS``` policy and a ```DoublyRobustWithShrinkage``` estimator"
   ]
  },
  {
   "cell_type": "code",
   "execution_count": 21,
   "metadata": {},
   "outputs": [],
   "source": [
    "policy_name = 'LogisticTS'\n",
    "policy_params = {'n_actions':dataset.n_actions, 'len_list':dataset.len_list, 'dim':dataset.context.shape[1]}\n",
    "policy_dict = utils.build_obj_spec(policy_name, policy_params, experiment_name='notebook_demo_1',\n",
    "                                    obj_type='policy' , output='./policy_yamls/')\n",
    "\n",
    "estimator_name = 'DoublyRobustWithShrinkage'\n",
    "estimator_params = {'lambda_':1}\n",
    "estimator_dict = utils.build_obj_spec(estimator_name, estimator_params, experiment_name='notebook_demo_1',\n",
    "                                      obj_type='estimator' , output='./policy_yamls/')"
   ]
  },
  {
   "cell_type": "markdown",
   "metadata": {},
   "source": [
    "Now, I can run this experiment using the script ```opb_run.py --experiment-dir 'policy_yamls/notebook_demo_1/```, and the resulting interval estimates would be saved in the same directory. For convenience, theres a single function that can generate all three objects, and a script for submitting a job to slurm:"
   ]
  },
  {
   "cell_type": "code",
   "execution_count": 24,
   "metadata": {},
   "outputs": [],
   "source": [
    "experiment_test_name = 'notebook_demo_2'\n",
    "\n",
    "utils.build_experiment(experiment_test_name, policy_name, estimator_name, dataset_name,\\\n",
    "                       policy_params, estimator_params, dataset_params)"
   ]
  },
  {
   "cell_type": "markdown",
   "metadata": {},
   "source": [
    "From here, ```sbatch ./policy_yamls/notebook_demo_2/script.sbatch``` will submit the job to a slurm node."
   ]
  },
  {
   "cell_type": "code",
   "execution_count": null,
   "metadata": {},
   "outputs": [],
   "source": []
  }
 ],
 "metadata": {
  "kernelspec": {
   "display_name": "SD_Bandits Py3.8",
   "language": "python",
   "name": "sd_bandits_env"
  },
  "language_info": {
   "codemirror_mode": {
    "name": "ipython",
    "version": 3
   },
   "file_extension": ".py",
   "mimetype": "text/x-python",
   "name": "python",
   "nbconvert_exporter": "python",
   "pygments_lexer": "ipython3",
   "version": "3.8.0"
  }
 },
 "nbformat": 4,
 "nbformat_minor": 4
}
