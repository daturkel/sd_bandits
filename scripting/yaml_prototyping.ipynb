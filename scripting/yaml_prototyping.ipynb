{
 "cells": [
  {
   "cell_type": "code",
   "execution_count": 4,
   "metadata": {},
   "outputs": [],
   "source": [
    "import sys\n",
    "import os\n",
    "import numpy as np\n",
    "import argparse\n",
    "from pathlib import Path\n",
    "from datetime import datetime\n",
    "import yaml\n",
    "\n",
    "root_dir = os.path.expanduser('~/sd_bandits')\n",
    "sys.path.append(root_dir)"
   ]
  },
  {
   "cell_type": "code",
   "execution_count": 7,
   "metadata": {},
   "outputs": [],
   "source": [
    "import sd_bandits.utils"
   ]
  },
  {
   "cell_type": "code",
   "execution_count": 8,
   "metadata": {},
   "outputs": [],
   "source": [
    "from obp.policy import BernoulliTS, EpsilonGreedy, Random, LinEpsilonGreedy,\\\n",
    "                       LinTS, LinUCB, LogisticEpsilonGreedy, LogisticTS, LogisticUCB\n",
    "\n",
    "from obp.ope.estimators import DirectMethod, DoublyRobust, DoublyRobustWithShrinkage,\\\n",
    "                               InverseProbabilityWeighting, ReplayMethod,\\\n",
    "                               SelfNormalizedDoublyRobust, SelfNormalizedInverseProbabilityWeighting,\\\n",
    "                               SwitchDoublyRobust, SwitchInverseProbabilityWeighting\n",
    "\n",
    "from obp.dataset import OpenBanditDataset\n",
    "from sd_bandits.deezer.dataset import DeezerDataset"
   ]
  },
  {
   "cell_type": "code",
   "execution_count": 18,
   "metadata": {
    "jupyter": {
     "source_hidden": true
    }
   },
   "outputs": [],
   "source": [
    "policy_dict = {'BernoulliTS':BernoulliTS,\n",
    "               'EpsilonGreedy':EpsilonGreedy,\n",
    "               'Random':Random,\n",
    "               'LinEpsilonGreedy':LinEpsilonGreedy,\n",
    "               'LinTS':LinTS,\n",
    "               'LinUCB':LinUCB,\n",
    "               'LogisticEpsilonGreedy':LogisticEpsilonGreedy,\n",
    "               'LogisticTS':LogisticTS,\n",
    "               'LogisticUCB':LogisticUCB}\n",
    "\n",
    "def build_policy_spec(policy_key, parameter_dict, policy_name=None, output='./policy_yamls/'):\n",
    "    '''\n",
    "    Constructs a yaml output file specifying the type of \n",
    "    policy and the policy paramters\n",
    "    \n",
    "    Parameters\n",
    "    ------------\n",
    "    policy_key: str\n",
    "        The policy name\n",
    "    parameter_dict: dict\n",
    "        The dict containing {kwarg: value}\n",
    "    policy_name: str\n",
    "        The name of the policy+configuration, if not\n",
    "        specified, will be automatically generated\n",
    "        via timestamp\n",
    "    output: str\n",
    "        Path to directory to store\n",
    "    \n",
    "    Returns\n",
    "    ------------\n",
    "    policy: policy\n",
    "        The policy with specified parameters\n",
    "    '''\n",
    "    #Set name via timestamp if not specified\n",
    "    if policy_name==None:\n",
    "        now = datetime.now()\n",
    "        current_time = now.strftime(\"%H%M%S\")\n",
    "        policy_name = '{}_{}'.format(policy_key, current_time)\n",
    "    \n",
    "    #Build dict structure\n",
    "    yaml_dict = {}\n",
    "    yaml_dict['name'] = policy_name\n",
    "    yaml_dict['policy_type'] = policy_key\n",
    "    yaml_dict['parameters'] = parameter_dict\n",
    "    \n",
    "    #Set output folder\n",
    "    output_folder = os.path.join(output, policy_name)\n",
    "    if not os.path.exists(output_folder):\n",
    "        os.makedirs(output_folder)\n",
    "    \n",
    "    with open(os.path.join(output_folder, 'policy_spec.yaml'), 'w') as file:\n",
    "        yaml.dump(yaml_dict, file)\n",
    "        \n",
    "    policy = policy_dict[policy_key](**parameter_dict)\n",
    "    \n",
    "    return policy\n",
    "    \n",
    "    "
   ]
  },
  {
   "cell_type": "code",
   "execution_count": 22,
   "metadata": {
    "jupyter": {
     "source_hidden": true
    }
   },
   "outputs": [
    {
     "name": "stdout",
     "output_type": "stream",
     "text": [
      "BernoulliTS(n_actions=5, len_list=3, batch_size=5, random_state=None, alpha=array([1., 1., 1., 1., 1.]), beta=array([1., 1., 1., 1., 1.]), is_zozotown_prior=False, campaign=None, policy_name='bts')\n"
     ]
    }
   ],
   "source": [
    "policy_key_test = 'BernoulliTS'\n",
    "policy_name_test = 'Bernoulli_test'\n",
    "policy_params_test = {'n_actions':5, 'len_list':3, 'batch_size':5}\n",
    "\n",
    "policy_test = build_policy_spec(policy_key_test, policy_params_test,\\\n",
    "                  policy_name=policy_name_test)\n",
    "\n",
    "print(policy_test)"
   ]
  },
  {
   "cell_type": "code",
   "execution_count": 25,
   "metadata": {
    "jupyter": {
     "source_hidden": true
    }
   },
   "outputs": [],
   "source": [
    "def load_policy_from_spec(policy_folder):\n",
    "    '''\n",
    "    Constructs a yaml output file specifying the type of \n",
    "    policy and the policy paramters\n",
    "    \n",
    "    Parameters\n",
    "    ------------\n",
    "    policy_folder: str\n",
    "        The folder containing the policy spec\n",
    "    Returns\n",
    "    ------------\n",
    "    policy: policy\n",
    "        The policy loaded from the spec yaml\n",
    "    '''\n",
    "    with open(os.path.join(policy_folder, 'policy_spec.yaml'), 'r') as file:\n",
    "        yaml_dict = yaml.load(file)\n",
    "    \n",
    "    policy_key = yaml_dict['policy_type']\n",
    "    parameter_dict = yaml_dict['parameters']\n",
    "    \n",
    "    policy = policy_dict[policy_key](**parameter_dict)\n",
    "   \n",
    "    return policy\n",
    "    "
   ]
  },
  {
   "cell_type": "code",
   "execution_count": 29,
   "metadata": {
    "jupyter": {
     "source_hidden": true
    }
   },
   "outputs": [
    {
     "name": "stdout",
     "output_type": "stream",
     "text": [
      "BernoulliTS(n_actions=5, len_list=3, batch_size=5, random_state=None, alpha=array([1., 1., 1., 1., 1.]), beta=array([1., 1., 1., 1., 1.]), is_zozotown_prior=False, campaign=None, policy_name='bts')\n"
     ]
    },
    {
     "name": "stderr",
     "output_type": "stream",
     "text": [
      "<ipython-input-25-fd36e1bd954d>:16: YAMLLoadWarning: calling yaml.load() without Loader=... is deprecated, as the default Loader is unsafe. Please read https://msg.pyyaml.org/load for full details.\n",
      "  yaml_dict = yaml.load(file)\n"
     ]
    }
   ],
   "source": [
    "policy_load_test = './policy_yamls/Bernoulli_test'\n",
    "\n",
    "policy_load = load_policy_from_spec(policy_load_test)\n",
    "print(policy_load)"
   ]
  },
  {
   "cell_type": "code",
   "execution_count": 11,
   "metadata": {},
   "outputs": [],
   "source": [
    "estimator_dict = {'DirectMethod':DirectMethod,\n",
    "                  'DoublyRobust':DoublyRobust,\n",
    "                  'DoublyRobustWithShrinkage':DoublyRobustWithShrinkage,\n",
    "                  'InverseProbabilityWeighting':InverseProbabilityWeighting,\n",
    "                  'ReplayMethod':ReplayMethod,\n",
    "                  'SelfNormalizedDoublyRobust':SelfNormalizedDoublyRobust,\n",
    "                  'SelfNormalizedInverseProbabilityWeighting':SelfNormalizedInverseProbabilityWeighting,\n",
    "                  'SwitchDoublyRobust':SwitchDoublyRobust,\n",
    "                  'SwitchInverseProbabilityWeighting':SwitchInverseProbabilityWeighting}\n",
    "\n",
    "policy_dict = {'BernoulliTS':BernoulliTS,\n",
    "               'EpsilonGreedy':EpsilonGreedy,\n",
    "               'Random':Random,\n",
    "               'LinEpsilonGreedy':LinEpsilonGreedy,\n",
    "               'LinTS':LinTS,\n",
    "               'LinUCB':LinUCB,\n",
    "               'LogisticEpsilonGreedy':LogisticEpsilonGreedy,\n",
    "               'LogisticTS':LogisticTS,\n",
    "               'LogisticUCB':LogisticUCB}\n",
    "\n",
    "dataset_dict = {'obp': OpenBanditDataset,\n",
    "                'deezer': DeezerDataset}\n",
    "\n",
    "\n",
    "def build_obj_spec(obj_key, parameter_dict, experiment_name=None, obj_type='policy', output='./policy_yamls/'):\n",
    "    '''\n",
    "    Constructs a yaml output file specifying the type of \n",
    "    policy and the policy paramters\n",
    "    \n",
    "    Parameters\n",
    "    ------------\n",
    "    obj_key: str\n",
    "        The policy/estimator/dataset name\n",
    "    parameter_dict: dict\n",
    "        The dict containing parameters for the\n",
    "        obp object {kwarg: value}\n",
    "    experiment_name: str\n",
    "        The associated experiment name, if not\n",
    "        specified, will be automatically generated\n",
    "        via timestamp\n",
    "    obj_type: str\n",
    "        The type of OBP object, should be 'policy'\n",
    "        or 'estimator', throw error otherwise\n",
    "    output: str\n",
    "        Path to directory to store\n",
    "    \n",
    "    Returns\n",
    "    ------------\n",
    "    obj_dict: dict\n",
    "        The constructor dict for the object\n",
    "    '''\n",
    "    #Set name via timestamp if not specified\n",
    "    if obj_type not in ['policy','estimator', 'dataset']:\n",
    "        print('Invalid type: {}'.format(obj_type))\n",
    "        return None\n",
    "    \n",
    "    if experiment_name==None:\n",
    "        now = datetime.now()\n",
    "        current_time = now.strftime(\"%H%M%S\")\n",
    "        experiment_name = 'experiment_{}'.format(current_time)\n",
    "    \n",
    "    #Build dict structure\n",
    "    obj_dict = {}\n",
    "    obj_dict['name'] = experiment_name\n",
    "    obj_dict['type'] = obj_type\n",
    "    obj_dict['key'] = obj_key\n",
    "    obj_dict['parameters'] = parameter_dict\n",
    "    \n",
    "    #Set output folder\n",
    "    output_folder = os.path.join(output, experiment_name)\n",
    "    if not os.path.exists(output_folder):\n",
    "        os.makedirs(output_folder)\n",
    "    \n",
    "    with open(os.path.join(output_folder, '{}_spec.yaml'.format(obj_type)), 'w') as file:\n",
    "        yaml.dump(obj_dict, file)\n",
    "        \n",
    "    return obj_dict"
   ]
  },
  {
   "cell_type": "code",
   "execution_count": 31,
   "metadata": {},
   "outputs": [],
   "source": [
    "def load_obj_from_spec(obj_dict_path):\n",
    "    '''\n",
    "    Loads policy/estimator from spec dict\n",
    "    \n",
    "    Parameters\n",
    "    ------------\n",
    "    obj_dict_path: str\n",
    "        Path to configuration dict from build_obj_spec()\n",
    "    Returns\n",
    "    ------------\n",
    "    obj: obp.policy/obp.estimator/dataset\n",
    "        The policy/estimator loaded from the spec dict\n",
    "    '''\n",
    "    with open(obj_dict_path, 'r') as file:\n",
    "        obj_dict = yaml.load(file, Loader=yaml.FullLoader)\n",
    "        \n",
    "    obj_name = obj_dict['name']\n",
    "    obj_type = obj_dict['type']\n",
    "    obj_key = obj_dict['key']\n",
    "    parameter_dict = obj_dict['parameters']\n",
    "    \n",
    "    if obj_type=='policy':\n",
    "        policy = policy_dict[obj_key](**parameter_dict)\n",
    "        return policy\n",
    "    elif obj_type=='estimator':\n",
    "        estimator = estimator_dict[obj_key](**parameter_dict)\n",
    "        return estimator\n",
    "    elif obj_type=='dataset':\n",
    "        parameter_dict['data_path'] = Path(parameter_dict['data_path'])\n",
    "        dataset = dataset_dict[obj_key](**parameter_dict)\n",
    "        return dataset\n",
    "   "
   ]
  },
  {
   "cell_type": "code",
   "execution_count": 32,
   "metadata": {},
   "outputs": [
    {
     "name": "stdout",
     "output_type": "stream",
     "text": [
      "{'name': 'save_obj_test', 'type': 'policy', 'key': 'BernoulliTS', 'parameters': {'n_actions': 5, 'len_list': 3, 'batch_size': 5}}\n",
      "BernoulliTS(n_actions=5, len_list=3, batch_size=5, random_state=None, alpha=array([1., 1., 1., 1., 1.]), beta=array([1., 1., 1., 1., 1.]), is_zozotown_prior=False, campaign=None, policy_name='bts')\n"
     ]
    }
   ],
   "source": [
    "policy_key_test = 'BernoulliTS'\n",
    "policy_name_test = 'save_obj_test'\n",
    "policy_params_test = {'n_actions':5, 'len_list':3, 'batch_size':5}\n",
    "\n",
    "policy_test = build_obj_spec(policy_key_test, policy_params_test, experiment_name=policy_name_test)\n",
    "\n",
    "print(policy_test)\n",
    "print(load_obj_from_spec('policy_yamls/save_obj_test/policy_spec.yaml'))"
   ]
  },
  {
   "cell_type": "code",
   "execution_count": 33,
   "metadata": {},
   "outputs": [
    {
     "name": "stdout",
     "output_type": "stream",
     "text": [
      "{'name': 'save_obj_test', 'type': 'estimator', 'key': 'DoublyRobustWithShrinkage', 'parameters': {'lambda_': 1}}\n",
      "DoublyRobustWithShrinkage(estimator_name='dr-os', lambda_=1)\n"
     ]
    }
   ],
   "source": [
    "est_key_test = 'DoublyRobustWithShrinkage'\n",
    "est_name_test = 'save_obj_test'\n",
    "est_params_test = {'lambda_':1}\n",
    "\n",
    "est_test = build_obj_spec(est_key_test, est_params_test, experiment_name=est_name_test, obj_type='estimator')\n",
    "\n",
    "print(est_test)\n",
    "print(load_obj_from_spec('policy_yamls/save_obj_test/estimator_spec.yaml'))"
   ]
  },
  {
   "cell_type": "code",
   "execution_count": 34,
   "metadata": {},
   "outputs": [
    {
     "name": "stdout",
     "output_type": "stream",
     "text": [
      "{'name': 'save_obj_test', 'type': 'dataset', 'key': 'obp', 'parameters': {'data_path': '~/sd_bandits/data/obd', 'campaign': 'all', 'behavior_policy': 'bts'}}\n",
      "OpenBanditDataset(behavior_policy='bts', campaign='all', data_path=PosixPath('~/sd_bandits/data/obd/bts/all'), dataset_name='obd')\n"
     ]
    }
   ],
   "source": [
    "dataset_key_test = 'obp'\n",
    "dataset_name_test = 'save_obj_test'\n",
    "dataset_params_test = {'data_path': '~/sd_bandits/data/obd',\n",
    "                       'campaign': 'all',\n",
    "                       'behavior_policy': 'bts'}\n",
    "\n",
    "dataset_test = build_obj_spec(dataset_key_test, dataset_params_test, experiment_name=dataset_name_test, obj_type='dataset')\n",
    "\n",
    "print(dataset_test)\n",
    "print(load_obj_from_spec('policy_yamls/save_obj_test/dataset_spec.yaml'))"
   ]
  },
  {
   "cell_type": "code",
   "execution_count": 35,
   "metadata": {},
   "outputs": [],
   "source": [
    "def build_experiment(experiment_name, policy, estimator, dataset, policy_params, estimator_params, dataset_params):\n",
    "    '''\n",
    "    Builds full experiment spec folder w/ policy, estimator, and dataset, as well as an\n",
    "    \n",
    "    Parameters\n",
    "    ------------\n",
    "    obj_dict: dict\n",
    "        Obj configuration dict from build_obj_spec()\n",
    "    Returns\n",
    "    ------------\n",
    "    obj: obp.policy/obp.estimator\n",
    "        The policy/estimator loaded from the spec dict\n",
    "    ''' "
   ]
  },
  {
   "cell_type": "code",
   "execution_count": null,
   "metadata": {},
   "outputs": [],
   "source": []
  }
 ],
 "metadata": {
  "kernelspec": {
   "display_name": "SD_Bandits Py3.8",
   "language": "python",
   "name": "sd_bandits_env"
  },
  "language_info": {
   "codemirror_mode": {
    "name": "ipython",
    "version": 3
   },
   "file_extension": ".py",
   "mimetype": "text/x-python",
   "name": "python",
   "nbconvert_exporter": "python",
   "pygments_lexer": "ipython3",
   "version": "3.8.0"
  }
 },
 "nbformat": 4,
 "nbformat_minor": 4
}
